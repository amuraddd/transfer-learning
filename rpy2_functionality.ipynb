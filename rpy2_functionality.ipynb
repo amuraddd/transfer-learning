{
 "cells": [
  {
   "cell_type": "code",
   "execution_count": 1,
   "id": "757f386e-5164-4d24-9762-6be9e61db08e",
   "metadata": {},
   "outputs": [],
   "source": [
    "import pandas as pd\n",
    "import numpy as np\n",
    "\n",
    "import rpy2 #python interface for R\n",
    "import rpy2.robjects as robjects #high level interface with R for \"pythonic\" implementation\n",
    "from rpy2.robjects.packages import importr #for importing R packages in python\n",
    "import rpy2.robjects.packages as rpackages #for downloading R libraries in python"
   ]
  },
  {
   "cell_type": "code",
   "execution_count": 2,
   "id": "bb4da801-c809-4583-9896-ed73eb9d2c06",
   "metadata": {},
   "outputs": [
    {
     "data": {
      "text/plain": [
       "'3.4.5'"
      ]
     },
     "execution_count": 2,
     "metadata": {},
     "output_type": "execute_result"
    }
   ],
   "source": [
    "rpy2.__version__"
   ]
  },
  {
   "cell_type": "markdown",
   "id": "acc9a58c-c2ef-4ea0-bd95-31954ed3a886",
   "metadata": {},
   "source": [
    "### Importing R packages in Python"
   ]
  },
  {
   "cell_type": "code",
   "execution_count": 3,
   "id": "0d710c8c-ee56-499a-b9d6-c7d34c33604f",
   "metadata": {},
   "outputs": [],
   "source": [
    "# importing R libraries in python\n",
    "base = importr('base')\n",
    "# utils = importr('utils')"
   ]
  },
  {
   "cell_type": "code",
   "execution_count": 4,
   "id": "b0b557ad-c6a9-4f36-a31d-4d406aa1314d",
   "metadata": {},
   "outputs": [
    {
     "data": {
      "text/plain": [
       "<rpy2.rinterface_lib.sexp.NULLType object at 0x0000011ED489E8C0> [RTYPES.NILSXP]"
      ]
     },
     "execution_count": 4,
     "metadata": {},
     "output_type": "execute_result"
    }
   ],
   "source": [
    "#installing R packages in python\n",
    "utils = rpackages.importr('utils') #utils is used to install pacakges\n",
    "\n",
    "# select a mirror for R packages\n",
    "utils.chooseCRANmirror(ind=1) # select the first mirror in the list"
   ]
  },
  {
   "cell_type": "markdown",
   "id": "ac41365f-b4af-4d30-b0ac-6b12b640284a",
   "metadata": {},
   "source": [
    "### Installing R packages in Python from Python\n",
    "- To install R packages in python you have to run it as an administrator - so if you run jupyter lab from bash then run bash as an admin\n",
    "\n",
    "### Alternative\n",
    "- If you have a local installation of R on your machine then download R packages directly by using R and then import in python."
   ]
  },
  {
   "cell_type": "code",
   "execution_count": 18,
   "id": "af7fc561-ab5f-403d-9304-c5bf5e1b2b62",
   "metadata": {},
   "outputs": [],
   "source": [
    "# install packages\n",
    "packnames = ('ggplot2', 'caret', 'glmnet')\n",
    "\n",
    "# R vector of strings\n",
    "from rpy2.robjects.vectors import StrVector\n",
    "\n",
    "#selectively install only packages which need to be installed\n",
    "names_to_install = [x for x in packnames if not rpackages.isinstalled(x)]\n",
    "# if len(names_to_install) > 0:\n",
    "#     utils.install_packages(StrVector(names_to_install))"
   ]
  },
  {
   "cell_type": "markdown",
   "id": "3f4d10e4-7e58-4357-b149-84747e159ce8",
   "metadata": {},
   "source": [
    "### Using named R objects in Python"
   ]
  },
  {
   "cell_type": "code",
   "execution_count": 6,
   "id": "b152f0d8-3c96-4b87-82a7-f767dd3acfc6",
   "metadata": {},
   "outputs": [
    {
     "data": {
      "text/plain": [
       "3.141592653589793"
      ]
     },
     "execution_count": 6,
     "metadata": {},
     "output_type": "execute_result"
    }
   ],
   "source": [
    "pi = robjects.r['pi']\n",
    "pi[0]"
   ]
  },
  {
   "cell_type": "markdown",
   "id": "29a1be65-9d9e-4977-b4da-cbd45c067942",
   "metadata": {},
   "source": [
    "### Calling Functions in R"
   ]
  },
  {
   "cell_type": "code",
   "execution_count": 7,
   "id": "046584f0-a328-4a1b-8c25-c683069c5262",
   "metadata": {},
   "outputs": [
    {
     "data": {
      "text/html": [
       "\n",
       "        <span>FloatVector with 1 elements.</span>\n",
       "        <table>\n",
       "        <tbody>\n",
       "          <tr>\n",
       "          \n",
       "            <td>\n",
       "            18.849556\n",
       "            </td>\n",
       "          \n",
       "          </tr>\n",
       "        </tbody>\n",
       "        </table>\n",
       "        "
      ],
      "text/plain": [
       "<rpy2.robjects.vectors.FloatVector object at 0x0000011ED84C59C0> [RTYPES.REALSXP]\n",
       "R classes: ('numeric',)\n",
       "[18.849556]"
      ]
     },
     "execution_count": 7,
     "metadata": {},
     "output_type": "execute_result"
    }
   ],
   "source": [
    "#creat a R function in the R global environment using robjects.r\n",
    "robjects.r('''\n",
    "    # create a function 'f'\n",
    "    f <- function(r, verbose=FALSE){\n",
    "        if(verbose){\n",
    "            cat(\"Calling f().\\n\")\n",
    "        }\n",
    "        2 * pi * r\n",
    "    }\n",
    "    # call the function 'f' with argument value 3\n",
    "    f(3)\n",
    "''')"
   ]
  },
  {
   "cell_type": "code",
   "execution_count": 8,
   "id": "c8c21713-c807-4401-8f4b-d0d381b2524f",
   "metadata": {},
   "outputs": [
    {
     "name": "stdout",
     "output_type": "stream",
     "text": [
      "function (r, verbose = FALSE) \n",
      "{\n",
      "    if (verbose) {\n",
      "        cat(\"Calling f().\\n\")\n",
      "    }\n",
      "    2 * pi * r\n",
      "}\n"
     ]
    }
   ],
   "source": [
    "r_f = robjects.globalenv['f']\n",
    "print(r_f.r_repr())"
   ]
  },
  {
   "cell_type": "code",
   "execution_count": 9,
   "id": "6d943495-0b48-4865-84b1-f7e6f500cdb5",
   "metadata": {},
   "outputs": [
    {
     "name": "stdout",
     "output_type": "stream",
     "text": [
      "[1] 18.84956\n",
      "\n"
     ]
    }
   ],
   "source": [
    "f = robjects.r['f']\n",
    "result = f(3)\n",
    "print(result)"
   ]
  },
  {
   "cell_type": "code",
   "execution_count": 10,
   "id": "019f5f42-ed92-496e-afa4-b9f488011b07",
   "metadata": {},
   "outputs": [
    {
     "name": "stdout",
     "output_type": "stream",
     "text": [
      "[1] 6\n",
      "\n"
     ]
    }
   ],
   "source": [
    "### another exxample on calling builtin functions in R\n",
    "rsum = robjects.r['sum']\n",
    "rvec = robjects.IntVector([1,2,3]) #define a R vector of integers\n",
    "\n",
    "res = rsum(rvec) #call the sum function on the vector defined above\n",
    "\n",
    "print(res)"
   ]
  },
  {
   "cell_type": "markdown",
   "id": "4202209a-38e5-4e58-81ee-d81f0c5453cc",
   "metadata": {},
   "source": [
    "### Working with R packages\n",
    "- when working with symbols in R - translation needs to be done using a dict before it can be used in python\n",
    "- make sure the translation is not masking other symbols used in R"
   ]
  },
  {
   "cell_type": "code",
   "execution_count": 11,
   "id": "7ee9b9ee-8d88-4edf-baa3-a6a6ff351187",
   "metadata": {},
   "outputs": [],
   "source": [
    "#example translating r objects to another name before import\n",
    "d = {'package.dependencies': 'package_dot_dependencies',\n",
    "     'package_dependencies': 'package_uscore_dependencies'}\n",
    "tools = importr('tools', robject_translations = d)"
   ]
  },
  {
   "cell_type": "code",
   "execution_count": 12,
   "id": "797fb620-4044-4ef7-ba5e-f212415d6d96",
   "metadata": {},
   "outputs": [
    {
     "data": {
      "text/plain": [
       "{'package_uscore_dependencies': <rpy2.robjects.functions.DocumentedSTFunction object at 0x0000011EDC4C2D00> [RTYPES.CLOSXP]\n",
       " R classes: ('function',)}"
      ]
     },
     "execution_count": 12,
     "metadata": {},
     "output_type": "execute_result"
    }
   ],
   "source": [
    "def get_key(val):\n",
    "    for key, value in dict(tools.__dict__).items():\n",
    "         if val == value:\n",
    "                return {key: value}\n",
    "    return \"key doesn't exist\"\n",
    "\n",
    "get_key(tools.__dict__['package_uscore_dependencies']) #shows that now the function exist in the environment with the translated name"
   ]
  },
  {
   "cell_type": "markdown",
   "id": "f15765bb-b511-40c6-9c16-40f9ddf8c950",
   "metadata": {},
   "source": [
    "### Importing R code as a package\n",
    "- Wrap R code inside a python string and import as a python module"
   ]
  },
  {
   "cell_type": "code",
   "execution_count": 20,
   "id": "c09d391a-0807-4e50-a973-988148114240",
   "metadata": {},
   "outputs": [],
   "source": [
    "from trans_lasso import trans_lasso\n",
    "from rpy2.robjects.packages import SignatureTranslatedAnonymousPackage"
   ]
  },
  {
   "cell_type": "code",
   "execution_count": 21,
   "id": "205a18c1-0261-42bb-a311-7e2805703310",
   "metadata": {},
   "outputs": [],
   "source": [
    "methods = trans_lasso()"
   ]
  },
  {
   "cell_type": "code",
   "execution_count": 22,
   "id": "87d42476-f692-4579-b845-7a16e2bb5898",
   "metadata": {},
   "outputs": [],
   "source": [
    "trans_lasso_methods = SignatureTranslatedAnonymousPackage(methods, \"trans_lasso_methods\")"
   ]
  },
  {
   "cell_type": "code",
   "execution_count": 27,
   "id": "12883fd6-239d-46b4-8ea4-d9c437f74082",
   "metadata": {},
   "outputs": [
    {
     "data": {
      "text/plain": [
       "{'__name__': 'trans_lasso_methods',\n",
       " '__doc__': None,\n",
       " '__package__': None,\n",
       " '__loader__': None,\n",
       " '__spec__': None,\n",
       " '_env': <rpy2.robjects.environments.Environment object at 0x0000011EDDF54080> [RTYPES.ENVSXP]\n",
       " R classes: ('environment',)\n",
       " n items: 7,\n",
       " '__rname__': 'trans_lasso_methods',\n",
       " '_translation': {},\n",
       " '_rpy2r': {'agg_fun': 'agg.fun',\n",
       "  'ind_set': 'ind.set',\n",
       "  'las_kA': 'las.kA',\n",
       "  'mse_fun': 'mse.fun',\n",
       "  'rep_col': 'rep.col',\n",
       "  'Trans_lasso': 'Trans.lasso',\n",
       "  'Trans_lasso_sp': 'Trans.lasso.sp'},\n",
       " '_exported_names': {'Trans_lasso',\n",
       "  'Trans_lasso_sp',\n",
       "  'agg_fun',\n",
       "  'ind_set',\n",
       "  'las_kA',\n",
       "  'mse_fun',\n",
       "  'rep_col'},\n",
       " '_symbol_r2python': <function rpy2.robjects.packages_utils.default_symbol_r2python(rname: str) -> str>,\n",
       " '_symbol_resolve': <function rpy2.robjects.packages_utils.default_symbol_resolve(symbol_mapping)>,\n",
       " 'agg_fun': <rpy2.robjects.functions.SignatureTranslatedFunction object at 0x0000011EDDF7BE80> [RTYPES.CLOSXP]\n",
       " R classes: ('function',),\n",
       " 'ind_set': <rpy2.robjects.functions.SignatureTranslatedFunction object at 0x0000011EDDF721C0> [RTYPES.CLOSXP]\n",
       " R classes: ('function',),\n",
       " 'las_kA': <rpy2.robjects.functions.SignatureTranslatedFunction object at 0x0000011EDCB1A840> [RTYPES.CLOSXP]\n",
       " R classes: ('function',),\n",
       " 'mse_fun': <rpy2.robjects.functions.SignatureTranslatedFunction object at 0x0000011EDDF85C80> [RTYPES.CLOSXP]\n",
       " R classes: ('function',),\n",
       " 'rep_col': <rpy2.robjects.functions.SignatureTranslatedFunction object at 0x0000011EDDF7EA00> [RTYPES.CLOSXP]\n",
       " R classes: ('function',),\n",
       " 'Trans_lasso': <rpy2.robjects.functions.SignatureTranslatedFunction object at 0x0000011EDDF85200> [RTYPES.CLOSXP]\n",
       " R classes: ('function',),\n",
       " 'Trans_lasso_sp': <rpy2.robjects.functions.SignatureTranslatedFunction object at 0x0000011EDDF71240> [RTYPES.CLOSXP]\n",
       " R classes: ('function',),\n",
       " '__version__': None}"
      ]
     },
     "execution_count": 27,
     "metadata": {},
     "output_type": "execute_result"
    }
   ],
   "source": [
    "trans_lasso_methods.__dict__ #the imported functions get . translated to _"
   ]
  },
  {
   "cell_type": "code",
   "execution_count": 26,
   "id": "8e5e00c9-ad76-4c46-a904-c230ba3efaaa",
   "metadata": {},
   "outputs": [
    {
     "name": "stdout",
     "output_type": "stream",
     "text": [
      "function (X, y, n.vec, I.til, l1 = T) \n",
      "{\n",
      "    M = length(n.vec) - 1\n",
      "    X0.til <- X[I.til, ]\n",
      "    y0.til <- y[I.til]\n",
      "    X <- X[-I.til, ]\n",
      "    y <- y[-I.til]\n",
      "    Rhat <- rep(0, M + 1)\n",
      "    p <- ncol(X)\n",
      "    n.vec[1] <- n.vec[1] - length(I.til)\n",
      "    ind.1 <- ind.set(n.vec, 1)\n",
      "    for (k in 2:(M + 1)) {\n",
      "        ind.k <- ind.set(n.vec, k)\n",
      "        Xty.k <- t(X[ind.k, ]) %*% y[ind.k]/n.vec[k] - t(X[ind.1, \n",
      "            ]) %*% y[ind.1]/n.vec[1]\n",
      "        margin.T <- sort(abs(Xty.k), decreasing = T)[1:round(n.vec[1]/3)]\n",
      "        Rhat[k] <- sum(margin.T^2)\n",
      "    }\n",
      "    Tset <- list()\n",
      "    k0 = 0\n",
      "    kk.list <- unique(rank(Rhat[-1]))\n",
      "    for (kk in 1:length(kk.list)) {\n",
      "        Tset[[k0 + kk]] <- which(rank(Rhat[-1]) <= kk.list[kk])\n",
      "    }\n",
      "    k0 = length(Tset)\n",
      "    Tset <- unique(Tset)\n",
      "    beta.T <- list()\n",
      "    init.re <- las.kA(X = X, y = y, A0 = NULL, n.vec = n.vec, \n",
      "        l1 = l1)\n",
      "    beta.T[[1]] <- init.re$beta.kA\n",
      "    beta.pool.T <- beta.T\n",
      "    for (kk in 1:length(Tset)) {\n",
      "        T.k <- Tset[[kk]]\n",
      "        re.k <- las.kA(X = X, y = y, A0 = T.k, n.vec = n.vec, \n",
      "            l1 = l1, lam.const = init.re$lam.const)\n",
      "        beta.T[[kk + 1]] <- re.k$beta.kA\n",
      "        beta.pool.T[[kk + 1]] <- re.k$w.kA\n",
      "    }\n",
      "    beta.T <- beta.T[!duplicated((beta.T))]\n",
      "    beta.T <- as.matrix(as.data.frame(beta.T))\n",
      "    agg.re1 <- agg.fun(B = beta.T, X.test = X0.til, y.test = y0.til)\n",
      "    beta.pool.T <- beta.pool.T[!duplicated((beta.pool.T))]\n",
      "    beta.pool.T <- as.matrix(as.data.frame(beta.pool.T))\n",
      "    agg.re2 <- agg.fun(B = beta.pool.T, X.test = X0.til, y.test = y0.til)\n",
      "    return(list(beta.hat = agg.re1$beta, theta.hat = agg.re1$theta, \n",
      "        rank.pi = rank(Rhat[-1]), beta.pool = agg.re2$beta, theta.pool = agg.re2$theta))\n",
      "}\n",
      "<environment: 0x0000011ee84079f0>\n",
      "\n"
     ]
    }
   ],
   "source": [
    "print(trans_lasso_methods.Trans_lasso)"
   ]
  },
  {
   "cell_type": "code",
   "execution_count": null,
   "id": "f9b842aa-013f-43dd-ae12-e5de1845e857",
   "metadata": {},
   "outputs": [],
   "source": []
  }
 ],
 "metadata": {
  "kernelspec": {
   "display_name": "Python 3 (ipykernel)",
   "language": "python",
   "name": "python3"
  },
  "language_info": {
   "codemirror_mode": {
    "name": "ipython",
    "version": 3
   },
   "file_extension": ".py",
   "mimetype": "text/x-python",
   "name": "python",
   "nbconvert_exporter": "python",
   "pygments_lexer": "ipython3",
   "version": "3.8.5"
  }
 },
 "nbformat": 4,
 "nbformat_minor": 5
}
